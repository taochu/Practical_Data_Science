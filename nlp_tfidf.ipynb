{
 "cells": [
  {
   "cell_type": "markdown",
   "metadata": {},
   "source": [
    "# Text Analysis with TFIDF"
   ]
  },
  {
   "cell_type": "code",
   "execution_count": 1,
   "metadata": {},
   "outputs": [],
   "source": [
    "import re\n",
    "import numpy as np\n",
    "np.random.seed(0)\n",
    "import scipy.sparse as sp\n",
    "import matplotlib.pyplot as plt\n",
    "plt.style.use('ggplot')"
   ]
  },
  {
   "cell_type": "markdown",
   "metadata": {},
   "source": [
    "## Load federalist papers data\n",
    "\n",
    "#### Text data are collected from [Project Gutenberg](http://www.gutenberg.org/ebooks/18)\n",
    "\n",
    "Preprocess the data so that unwanted information will not be processed later, get the author and content of each paper, and have the text tokenized."
   ]
  },
  {
   "cell_type": "code",
   "execution_count": 2,
   "metadata": {},
   "outputs": [],
   "source": [
    "def load_federalist_corpus(filename):\n",
    "    \"\"\" Load the federalist papers as a tokenized list of strings, one for each eassay\"\"\"\n",
    "    with open(filename, \"rt\",encoding = \"utf8\") as f:\n",
    "        data = f.read()\n",
    "    papers = data.split(\"FEDERALIST\")\n",
    "    \n",
    "    # all start with \"To the people of the State of New York:\" (sometimes . instead of :)\n",
    "    # all end with PUBLIUS (or no end at all)\n",
    "    locations = [(i,[-1] + [m.end()+1 for m in re.finditer(r\"of the State of New York\", p)],\n",
    "                 [-1] + [m.start() for m in re.finditer(r\"PUBLIUS\", p)]) for i,p in enumerate(papers)]\n",
    "    papers_content = [papers[i][max(loc[1]):max(loc[2])] for i,loc in enumerate(locations)]\n",
    "\n",
    "    # discard entries that are not actually a paper\n",
    "    papers_content = [p for p in papers_content if len(p) > 0]\n",
    "\n",
    "    # replace all whitespace with a single space\n",
    "    papers_content = [re.sub(r\"\\s+\", \" \", p).lower() for p in papers_content]\n",
    "\n",
    "    # add spaces before all punctuation, so they are separate tokens\n",
    "    punctuation = set(re.findall(r\"[^\\w\\s]+\", \" \".join(papers_content))) - {\"-\",\"'\"}\n",
    "    for c in punctuation:\n",
    "        papers_content = [p.replace(c, \" \"+c+\" \") for p in papers_content]\n",
    "    papers_content = [re.sub(r\"\\s+\", \" \", p).lower().strip() for p in papers_content]\n",
    "    \n",
    "    authors = [tuple(re.findall(\"MADISON|JAY|HAMILTON\", a)) for a in papers]\n",
    "    authors = [a for a in authors if len(a) > 0]\n",
    "    \n",
    "    numbers = [re.search(r\"No\\. \\d+\", p).group(0) for p in papers if re.search(r\"No\\. \\d+\", p)]\n",
    "    \n",
    "    return papers_content, authors, numbers"
   ]
  },
  {
   "cell_type": "code",
   "execution_count": 3,
   "metadata": {},
   "outputs": [],
   "source": [
    "papers, authors, numbers = load_federalist_corpus(\"utility/pg18.txt\")"
   ]
  },
  {
   "cell_type": "markdown",
   "metadata": {},
   "source": [
    "## Build TFIDF matrix from list of documents"
   ]
  },
  {
   "cell_type": "code",
   "execution_count": 4,
   "metadata": {},
   "outputs": [],
   "source": [
    "def build_tfidf(docs):\n",
    "    \"\"\"\n",
    "    Args:\n",
    "        docs: list of strings, where each string represents a space-separated\n",
    "              document\n",
    "    \n",
    "    Returns: tuple: (tfidf, all_words)\n",
    "        tfidf: sparse matrix (in any scipy sparse format) of size (# docs) x\n",
    "               (# total unique words), where i,j entry is TFIDF score for \n",
    "               document i and term j\n",
    "        all_words: list of strings, where the ith element indicates the word\n",
    "                   that corresponds to the ith column in the TFIDF matrix\n",
    "    \"\"\"\n",
    "    record = set()\n",
    "    words, row, col, data, whole = [], [], [], [], [] \n",
    "    num_doc_with, idf = {}, {}\n",
    "    for doc in docs:\n",
    "        this = set()\n",
    "        counter = {}\n",
    "        for word in doc.split():\n",
    "            counter[word] = counter.get(word,0) + 1\n",
    "            if word not in record:\n",
    "                words.append(word)\n",
    "                record.add(word)\n",
    "            if word not in this:\n",
    "                num_doc_with[word] = num_doc_with.get(word,0) + 1\n",
    "                this.add(word)\n",
    "        whole.append(counter)\n",
    "        \n",
    "    # inverse document frequency\n",
    "    for word in num_doc_with:\n",
    "        idf[word] = np.log(len(docs)/num_doc_with[word])\n",
    "    for doc_num in range(len(docs)):\n",
    "        for word_num, word in enumerate(words):\n",
    "            if word in whole[doc_num]:\n",
    "                row.append(doc_num)\n",
    "                col.append(word_num)\n",
    "                data.append(idf[word] * whole[doc_num][word])\n",
    "            \n",
    "    tfidf = sp.coo_matrix((data,(row,col)),shape=(len(docs),len(words)))\n",
    "\n",
    "    return (tfidf,words)"
   ]
  },
  {
   "cell_type": "code",
   "execution_count": 5,
   "metadata": {},
   "outputs": [],
   "source": [
    "tfidf, words = build_tfidf(papers)"
   ]
  },
  {
   "cell_type": "markdown",
   "metadata": {},
   "source": [
    "## Calculate cosine similarity between documents"
   ]
  },
  {
   "cell_type": "code",
   "execution_count": 6,
   "metadata": {},
   "outputs": [],
   "source": [
    "def cosine_similarity(X):\n",
    "    \"\"\"\n",
    "    Return a matrix of cosine similarities.\n",
    "    \n",
    "    Args:\n",
    "        X: sparse matrix of TFIDF scores or term frequencies\n",
    "    \n",
    "    Returns:\n",
    "        M: dense numpy array of all pairwise cosine similarities.  That is, the \n",
    "           entry M[i,j], should correspond to the cosine similarity between the \n",
    "           ith and jth rows of X.\n",
    "    \"\"\"\n",
    "    cos = np.zeros((X.shape[0],X.shape[0]))\n",
    "    X = X.todense()\n",
    "    for i in range(X.shape[0]):\n",
    "        for j in range(X.shape[0]):\n",
    "            cos[i,j] = X[i,:].dot(X[j,:].T)/np.linalg.norm(X[i,:])/np.linalg.norm(X[j,:])\n",
    "    return cos"
   ]
  },
  {
   "cell_type": "code",
   "execution_count": 7,
   "metadata": {},
   "outputs": [],
   "source": [
    "cosine = cosine_similarity(tfidf)"
   ]
  },
  {
   "cell_type": "markdown",
   "metadata": {},
   "source": [
    "### Check if documents from the same author share higher cosine similarity than those from different authors"
   ]
  },
  {
   "cell_type": "code",
   "execution_count": 8,
   "metadata": {},
   "outputs": [],
   "source": [
    "hamilton = {i for i,author in enumerate(authors) if 'HAMILTON' in author}"
   ]
  },
  {
   "cell_type": "code",
   "execution_count": 9,
   "metadata": {
    "scrolled": true
   },
   "outputs": [],
   "source": [
    "ham = [cosine[i,j] for i in range(len(authors)) for j in range(len(authors))\\\n",
    "           if i in hamilton and j in hamilton and i != j]\n",
    "other = [cosine[i,j] for i in range(len(authors)) for j in range(len(authors))\\\n",
    "           if i in hamilton and j not in hamilton]"
   ]
  },
  {
   "cell_type": "code",
   "execution_count": 10,
   "metadata": {},
   "outputs": [
    {
     "data": {
      "image/png": "[encoded data removed]",
      "text/plain": [
       "<Figure size 432x288 with 1 Axes>"
      ]
     },
     "metadata": {},
     "output_type": "display_data"
    }
   ],
   "source": [
    "both = [ham,other]\n",
    "plt.boxplot(both)\n",
    "plt.xticks([1,2],['Hamilton','Other'])\n",
    "plt.show()"
   ]
  },
  {
   "cell_type": "markdown",
   "metadata": {},
   "source": [
    "### Evaluate model by comparing unknown documents to each TFIDF model of author-known documents"
   ]
  },
  {
   "cell_type": "code",
   "execution_count": 11,
   "metadata": {},
   "outputs": [],
   "source": [
    "data, labels = [], []\n",
    "for i, author in enumerate(authors):\n",
    "    if len(author) == 1:\n",
    "        labels.append(author[0])\n",
    "        data.append(i)"
   ]
  },
  {
   "cell_type": "code",
   "execution_count": 12,
   "metadata": {},
   "outputs": [],
   "source": [
    "from sklearn.model_selection import train_test_split"
   ]
  },
  {
   "cell_type": "code",
   "execution_count": 13,
   "metadata": {},
   "outputs": [],
   "source": [
    "X_train, X_test, y_train, y_test = train_test_split(data,labels)"
   ]
  },
  {
   "cell_type": "code",
   "execution_count": 14,
   "metadata": {},
   "outputs": [],
   "source": [
    "hamilton = [papers[i] for i in X_train if authors[i][0] == 'HAMILTON']\n",
    "madison = [papers[i] for i in X_train if authors[i][0] == 'MADISON']\n",
    "jay = [papers[i] for i in X_train if authors[i][0] == 'JAY']\n",
    "tests = [papers[i] for i in X_test]"
   ]
  },
  {
   "cell_type": "code",
   "execution_count": 15,
   "metadata": {},
   "outputs": [],
   "source": [
    "test_labels = []\n",
    "for te in tests:\n",
    "    with_ham, with_jay, with_mad = map(build_tfidf, [hamilton + [te], jay + [te], madison + [te]])\n",
    "    cos_ham, cos_jay, cos_mad = map(cosine_similarity, [with_ham[0], with_jay[0], with_mad[0]])\n",
    "    mean_ham = sum(cos_ham[-1,:-1])/cos_ham.shape[0]\n",
    "    mean_jay = sum(cos_jay[-1,:-1])/cos_jay.shape[0]\n",
    "    mean_mad = sum(cos_mad[-1,:-1])/cos_mad.shape[0]\n",
    "    mx = max(mean_ham, mean_jay, mean_mad)\n",
    "    if mx == mean_ham:\n",
    "        test_labels.append('HAMILTON')\n",
    "    elif mx == mean_jay:\n",
    "        test_labels.append('JAY')\n",
    "    else:\n",
    "        test_labels.append('MADISON')"
   ]
  },
  {
   "cell_type": "code",
   "execution_count": 16,
   "metadata": {
    "scrolled": true
   },
   "outputs": [
    {
     "name": "stdout",
     "output_type": "stream",
     "text": [
      "accuracy:77.78%\n"
     ]
    }
   ],
   "source": [
    "right = 0\n",
    "for i in range(len(y_test)):\n",
    "    if y_test[i] == test_labels[i]:\n",
    "        right += 1\n",
    "print('accuracy:{:.2f}%'.format(100 * right / len(y_test)))"
   ]
  },
  {
   "cell_type": "markdown",
   "metadata": {},
   "source": [
    "__Conclusion__: TFIDF is powerful in comparing two documents' similarity, thus it's been widely used in search, topic modelling, or keyword extraction and in the author classification example above, though it's already achieved good accuracy, however, we can still make it more accurate if we increase the amount of data."
   ]
  }
 ],
 "metadata": {
  "kernelspec": {
   "display_name": "Python 3",
   "language": "python",
   "name": "python3"
  },
  "language_info": {
   "codemirror_mode": {
    "name": "ipython",
    "version": 3
   },
   "file_extension": ".py",
   "mimetype": "text/x-python",
   "name": "python",
   "nbconvert_exporter": "python",
   "pygments_lexer": "ipython3",
   "version": "3.6.6"
  }
 },
 "nbformat": 4,
 "nbformat_minor": 2
}
