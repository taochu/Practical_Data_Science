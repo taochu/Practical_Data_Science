{
 "cells": [
  {
   "cell_type": "markdown",
   "metadata": {},
   "source": [
    "# Graph Library"
   ]
  },
  {
   "cell_type": "markdown",
   "metadata": {},
   "source": [
    "### Warm up using Networkx library"
   ]
  },
  {
   "cell_type": "code",
   "execution_count": 9,
   "metadata": {},
   "outputs": [
    {
     "name": "stdout",
     "output_type": "stream",
     "text": [
      "Number of Nodes: 24166\n",
      "Shortest path from 1 to 2: ['1', '752', '18618', '2']\n"
     ]
    }
   ],
   "source": [
    "import networkx as nx\n",
    "G = nx.read_edgelist('utility/wikipedia_small.graph',create_using=nx.DiGraph())\n",
    "print('Number of Nodes: {}'.format(G.number_of_nodes()))\n",
    "p = nx.shortest_path(G,'1','2') \n",
    "print('Shortest path from 1 to 2: {}'.format(p))"
   ]
  },
  {
   "cell_type": "code",
   "execution_count": 10,
   "metadata": {},
   "outputs": [],
   "source": [
    "import numpy as np\n",
    "import scipy.sparse as sp\n",
    "import heapq"
   ]
  },
  {
   "cell_type": "markdown",
   "metadata": {},
   "source": [
    "Here we create a graph class containing three member functions -\n",
    "\n",
    "- `shortest_path` uses Dijkstra's algorithm to calculate single source distance to all reachable nodes in the graph.\n",
    "\n",
    "- `adjacency_matrix` generates the adjacency matrix of the graph.\n",
    "\n",
    "- `pagerank` calculates the PageRank score of each nodes."
   ]
  },
  {
   "cell_type": "code",
   "execution_count": 11,
   "metadata": {},
   "outputs": [],
   "source": [
    "class Graph:\n",
    "    \n",
    "    def __init__(self):\n",
    "        \"\"\" Initialize with an empty edge dictionary. \"\"\"\n",
    "        self.edges = {}\n",
    "        \n",
    "    def add_edges(self, edges_list):\n",
    "        ''' Add a list of edges to the network. Use 1.0 to indiciate the presence of an edge. \n",
    "        \n",
    "        Args:\n",
    "            edges_list: list of (a,b) tuples, where a->b is an edge to add\n",
    "        '''\n",
    "        \n",
    "        for i,j in edges_list:\n",
    "            self.edges.setdefault(i,{})[j] = 1.0\n",
    "            if j not in self.edges:\n",
    "                self.edges[j] = {}\n",
    "            \n",
    "    def shortest_path(self, source):\n",
    "        path, distance = {source:None}, {source:0}\n",
    "        heap = [(0,source)]\n",
    "        heapq.heapify(heap)\n",
    "        while heap:\n",
    "            wei, node = heapq.heappop(heap)\n",
    "            for nxt in self.edges[node]:\n",
    "                if wei + self.edges[node][nxt] < distance.get(nxt,float('inf')):\n",
    "                    distance[nxt] = wei + self.edges[node][nxt]\n",
    "                    path[nxt] = node\n",
    "                    heapq.heappush(heap,(distance[nxt],nxt))\n",
    "        \n",
    "        return (distance, path)\n",
    "    \n",
    "    def adjacency_matrix(self):\n",
    "        ''' Compute an adjacency matrix form of the graph.  \n",
    "        \n",
    "        Returns: tuple (A, nodes)\n",
    "            A: a sparse matrix in COO form that represents the adjaency matrix\n",
    "               for the graph (i.e., A[i,j] = 1 iff there is an edge i->j)\n",
    "            nodes: a list of nodes indicating the node key corresponding to each\n",
    "                   index of the A matrix\n",
    "        '''\n",
    "        nodes = list(self.edges)\n",
    "        size = len(nodes)\n",
    "        hashmap = {nodes[i] : i for i in range(size)}\n",
    "        rows, cols = [], []\n",
    "        for parent, children in self.edges.items():\n",
    "            for nd in children:\n",
    "                cols.append(hashmap[parent])\n",
    "                rows.append(hashmap[nd])\n",
    "        data = [1.0] * len(rows)\n",
    "        adj_matrix = sp.coo_matrix((data,(rows,cols)),shape = (size,size))\n",
    "        return (adj_matrix, nodes)\n",
    "    \n",
    "    def pagerank(self, d=0.85, iters=100):\n",
    "        '''\n",
    "        Compute PageRank score for each node in the graph.\n",
    "        \n",
    "        Args:\n",
    "            damp: 1 - random restart factor\n",
    "            iters: maximum number of iterations of power method\n",
    "            \n",
    "        Returns: \n",
    "        '''\n",
    "        adj = self.adjacency_matrix()[0]\n",
    "        n = adj.shape[0]\n",
    "        deg_out_beta = adj.sum(0).T/d\n",
    "        ranks = np.ones((n,1))/n\n",
    "        for _ in range(iters):\n",
    "            with np.errstate(divide='ignore'):\n",
    "                new = adj.dot((ranks/deg_out_beta))\n",
    "            new += (1-new.sum())/n\n",
    "            ranks = new\n",
    "        nodes = list(self.edges)\n",
    "        hashmap = {nodes[i]:ranks[i][0,0] for i in range(len(nodes))}\n",
    "        return hashmap"
   ]
  },
  {
   "cell_type": "code",
   "execution_count": 12,
   "metadata": {},
   "outputs": [],
   "source": [
    "with open('utility/wikipedia_small.graph',encoding='utf8') as f:\n",
    "    edge_list = []\n",
    "    for line in f.readlines():\n",
    "        start, end = line.split()\n",
    "        edge_list.append((start,end))"
   ]
  },
  {
   "cell_type": "code",
   "execution_count": 13,
   "metadata": {},
   "outputs": [],
   "source": [
    "g = Graph()\n",
    "g.add_edges(edge_list)\n",
    "dist, path = g.shortest_path('1')"
   ]
  },
  {
   "cell_type": "markdown",
   "metadata": {},
   "source": [
    "__Compare result with networkx shortest path__"
   ]
  },
  {
   "cell_type": "code",
   "execution_count": 14,
   "metadata": {},
   "outputs": [
    {
     "name": "stdout",
     "output_type": "stream",
     "text": [
      "['2', '18618', '752', '1']\n"
     ]
    }
   ],
   "source": [
    "end = '2'\n",
    "record = [end]\n",
    "while end != '1':\n",
    "    end = path[end]\n",
    "    record.append(end)\n",
    "print(record)"
   ]
  },
  {
   "cell_type": "code",
   "execution_count": 15,
   "metadata": {},
   "outputs": [
    {
     "name": "stdout",
     "output_type": "stream",
     "text": [
      "Wall time: 4.35 s\n"
     ]
    }
   ],
   "source": [
    "adj, nodes = g.adjacency_matrix()\n",
    "%time pagerank = g.pagerank()"
   ]
  },
  {
   "cell_type": "code",
   "execution_count": 16,
   "metadata": {},
   "outputs": [
    {
     "name": "stdout",
     "output_type": "stream",
     "text": [
      "Wall time: 1min 53s\n"
     ]
    }
   ],
   "source": [
    "% time nx_page = nx.pagerank(G)"
   ]
  },
  {
   "cell_type": "code",
   "execution_count": 18,
   "metadata": {},
   "outputs": [
    {
     "data": {
      "text/plain": [
       "[('697', 6.626017534553544e-06),\n",
       " ('900', 6.626017534553544e-06),\n",
       " ('1707', 6.626017534553544e-06),\n",
       " ('1951', 6.626017534553544e-06),\n",
       " ('2042', 6.626017534553544e-06)]"
      ]
     },
     "execution_count": 18,
     "metadata": {},
     "output_type": "execute_result"
    }
   ],
   "source": [
    "import operator\n",
    "sorted(pagerank.items(), key=operator.itemgetter(1))[:5]"
   ]
  },
  {
   "cell_type": "code",
   "execution_count": 19,
   "metadata": {},
   "outputs": [
    {
     "data": {
      "text/plain": [
       "[('697', 6.636980544652345e-06),\n",
       " ('900', 6.636980544652345e-06),\n",
       " ('1707', 6.636980544652345e-06),\n",
       " ('1951', 6.636980544652345e-06),\n",
       " ('2042', 6.636980544652345e-06)]"
      ]
     },
     "execution_count": 19,
     "metadata": {},
     "output_type": "execute_result"
    }
   ],
   "source": [
    "import operator\n",
    "sorted(nx_page.items(), key=operator.itemgetter(1))[:5]"
   ]
  },
  {
   "cell_type": "markdown",
   "metadata": {},
   "source": [
    "__Note:__ The PageRank algorithm from the networkx library is incredibly slow, and our self-made `pagerank` is almost 30 times faster and acquire similar results."
   ]
  }
 ],
 "metadata": {
  "kernelspec": {
   "display_name": "Python 3",
   "language": "python",
   "name": "python3"
  },
  "language_info": {
   "codemirror_mode": {
    "name": "ipython",
    "version": 3
   },
   "file_extension": ".py",
   "mimetype": "text/x-python",
   "name": "python",
   "nbconvert_exporter": "python",
   "pygments_lexer": "ipython3",
   "version": "3.6.6"
  }
 },
 "nbformat": 4,
 "nbformat_minor": 2
}
