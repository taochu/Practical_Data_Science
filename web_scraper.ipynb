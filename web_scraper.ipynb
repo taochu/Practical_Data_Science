{
 "cells": [
  {
   "cell_type": "markdown",
   "metadata": {},
   "source": [
    "# Web Scraper"
   ]
  },
  {
   "cell_type": "markdown",
   "metadata": {},
   "source": [
    "Web scraping is one of most important data collection skills. Without worrying about if there is an available dataset, we can collect the data on our own. \n",
    "\n",
    "This notebook includes a `YelpScraper` object which takes an api_key of a user to authenticate the access to the api and allow the class functions to work."
   ]
  },
  {
   "cell_type": "code",
   "execution_count": 1,
   "metadata": {},
   "outputs": [],
   "source": [
    "import time, json, re, requests\n",
    "from bs4 import BeautifulSoup"
   ]
  },
  {
   "cell_type": "code",
   "execution_count": 2,
   "metadata": {},
   "outputs": [],
   "source": [
    "with open('utility/API_key.txt', 'r') as f:\n",
    "    api_key = f.read().replace('\\n','')"
   ]
  },
  {
   "cell_type": "code",
   "execution_count": 3,
   "metadata": {},
   "outputs": [],
   "source": [
    "class YelpScraper(object):\n",
    "    \n",
    "    def __init__(self, api_key):\n",
    "        self.api = api_key\n",
    "    \n",
    "    def all_restaurants(self, query):\n",
    "        '''\n",
    "        Return all restaurants in the given query location.\n",
    "        '''\n",
    "        url = 'https://api.yelp.com/v3/businesses/search'\n",
    "        headers = {'authorization': 'Bearer %s' % self.api_key}\n",
    "        params = {'categories':'restaurants','location': query,'limit':50,'offset':0}\n",
    "        restaurant = []\n",
    "        while 1 :\n",
    "            response = requests.get(url,\n",
    "                                    headers=headers,\n",
    "                                    params=params)\n",
    "            for bus in response.json()['businesses']:\n",
    "                restaurant.append(bus)\n",
    "            params['offset'] += 50\n",
    "            if len(restaurant) >= response.json()['total']:\n",
    "                break\n",
    "            time.sleep(0.00002)\n",
    "        return restaurant\n",
    "    \n",
    "    def parse_page(self, html):\n",
    "        '''\n",
    "        Parse reviews in a page such that each review is formatted as:\n",
    "        {\n",
    "            'text': review content\n",
    "            'date': date of review, \n",
    "            'user_id': user's id, \n",
    "            'review_id': review's id, \n",
    "            'rating': type float\n",
    "        }\n",
    "        '''\n",
    "        soup = BeautifulSoup(html,\"html.parser\")\n",
    "        pretty = soup.prettify()\n",
    "        reviews = re.findall(r'\"description\": \"(.*?)\"',pretty)\n",
    "        ratings = re.findall(r'\"reviewRating\": {\"ratingValue\": ([0-9])}',pretty)\n",
    "        ratings = list(map(lambda x:round(float(x),1),ratings))\n",
    "        dates = re.findall(r'datePublished\": \"([^\"]+)\"',pretty)\n",
    "\n",
    "        review_ids = []\n",
    "        user_ids = []\n",
    "        for review_id,user_id in re.findall(r'data-review-id=\"([^\"]+)\" data-signup-object=\"user_id:([^\"]+)\"',pretty):\n",
    "            review_ids.append(review_id)\n",
    "            user_ids.append(user_id)\n",
    "        result = []\n",
    "        for date, rating, review_id, user_id, review in zip(dates, ratings, review_ids, user_ids, reviews):\n",
    "            date = date[:4] + '/' + date[5:7] + '/' + date[8:]\n",
    "            temp = {}\n",
    "            temp[\"review_id\"] = review_id\n",
    "            temp[\"user_id\"] = user_id\n",
    "            temp[\"rating\"] = rating\n",
    "            temp[\"date\"] = date\n",
    "            temp[\"text\"] = review\n",
    "            result.append(temp)\n",
    "            \n",
    "        next_page = re.search(r'<link href=\"([^\"]+)\" rel=\"next\"',pretty)\n",
    "        if next_page:\n",
    "            next_page = next_page.group(1)\n",
    "        return result,next_page\n",
    "    \n",
    "    def extract_reviews(self, url):\n",
    "        '''\n",
    "        Return all the reviews in a single restaurant specified by the url.\n",
    "        '''\n",
    "        data = []    \n",
    "        response = requests.get(url)\n",
    "        result,next_page = self.parse_page(response.text)\n",
    "        data += result\n",
    "        if not next_page:\n",
    "            return data\n",
    "        while next_page:\n",
    "            result, next_page = self.parse_page(get_html(next_page))\n",
    "            data += result\n",
    "        return data"
   ]
  },
  {
   "cell_type": "markdown",
   "metadata": {},
   "source": [
    "## Parse Yelp Restaurant Page"
   ]
  },
  {
   "cell_type": "code",
   "execution_count": 4,
   "metadata": {},
   "outputs": [],
   "source": [
    "yelp = YelpScraper(api_key)"
   ]
  },
  {
   "cell_type": "code",
   "execution_count": 7,
   "metadata": {},
   "outputs": [],
   "source": [
    "reviews = yelp.extract_reviews('https://www.yelp.com/biz/piazza-talarico-and-papa-joes-wine-cellar-pittsburgh')"
   ]
  },
  {
   "cell_type": "code",
   "execution_count": 9,
   "metadata": {},
   "outputs": [
    {
     "data": {
      "text/plain": [
       "{'review_id': 'DyQXngg3Hs2W6gYg6Yhm6A',\n",
       " 'user_id': 'aGxySE4K3XEFMQUpIFpScg',\n",
       " 'rating': 5.0,\n",
       " 'date': '2018/02/23',\n",
       " 'text': \"We have been wanting to go for some time now and hey extended their hours to 9 so we went! First they have homemade wine and it was amazing! Try the tattan wine (spelling?!) It's fantastic! \\\\n\\\\nWe got the pizza ( crust is perfect), greens and beans - highly recommend and grandmas rigatoni. The sauce is super good - just the right amount of sweet and the meatballs are delicious! \\\\n\\\\nThe service is on par, and they pay their servers a living wage so no tipping - overall really love the concept and the food. We will be back!\"}"
      ]
     },
     "execution_count": 9,
     "metadata": {},
     "output_type": "execute_result"
    }
   ],
   "source": [
    "reviews[0]"
   ]
  }
 ],
 "metadata": {
  "kernelspec": {
   "display_name": "Python 3",
   "language": "python",
   "name": "python3"
  },
  "language_info": {
   "codemirror_mode": {
    "name": "ipython",
    "version": 3
   },
   "file_extension": ".py",
   "mimetype": "text/x-python",
   "name": "python",
   "nbconvert_exporter": "python",
   "pygments_lexer": "ipython3",
   "version": "3.6.6"
  }
 },
 "nbformat": 4,
 "nbformat_minor": 2
}
