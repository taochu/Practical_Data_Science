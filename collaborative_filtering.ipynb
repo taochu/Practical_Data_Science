{
 "cells": [
  {
   "cell_type": "markdown",
   "metadata": {},
   "source": [
    "# Collaborative Filtering"
   ]
  },
  {
   "cell_type": "markdown",
   "metadata": {},
   "source": [
    "Compared to other recommender systems such as content-based recommendation, __Collaborative Filtering__ doesn't need any information about the items and the users and recommend items based on the users' past behavior. In this notebook, we will use one of the several collaborative filtering approaches called __matrix factorization__, and the main idea is to separate a single matrix by finding two matrices whose product is equal to the original rating  matrix, and each of these two matrices are called the `embedding` or `latent factor`.\n",
    "\n",
    "Dataset: [MovieLens rating dataset]( http://files.grouplens.org/datasets/movielens/ml-latest-small.zip)"
   ]
  },
  {
   "cell_type": "code",
   "execution_count": 1,
   "metadata": {},
   "outputs": [],
   "source": [
    "import pandas as pd\n",
    "import numpy as np\n",
    "import scipy.sparse as sp\n",
    "import scipy.linalg as la\n",
    "import matplotlib\n",
    "matplotlib.use(\"svg\")\n",
    "# AUTOLAB_IGNORE_START\n",
    "%matplotlib inline\n",
    "# AUTOLAB_IGNORE_STOP\n",
    "import matplotlib.pyplot as plt\n",
    "plt.style.use(\"ggplot\")\n",
    "import sys"
   ]
  },
  {
   "cell_type": "code",
   "execution_count": 2,
   "metadata": {
    "scrolled": true
   },
   "outputs": [
    {
     "data": {
      "text/html": [
       "<div>\n",
       "<style scoped>\n",
       "    .dataframe tbody tr th:only-of-type {\n",
       "        vertical-align: middle;\n",
       "    }\n",
       "\n",
       "    .dataframe tbody tr th {\n",
       "        vertical-align: top;\n",
       "    }\n",
       "\n",
       "    .dataframe thead th {\n",
       "        text-align: right;\n",
       "    }\n",
       "</style>\n",
       "<table border=\"1\" class=\"dataframe\">\n",
       "  <thead>\n",
       "    <tr style=\"text-align: right;\">\n",
       "      <th></th>\n",
       "      <th>movieId</th>\n",
       "      <th>title</th>\n",
       "      <th>genres</th>\n",
       "    </tr>\n",
       "  </thead>\n",
       "  <tbody>\n",
       "    <tr>\n",
       "      <th>0</th>\n",
       "      <td>1</td>\n",
       "      <td>Toy Story (1995)</td>\n",
       "      <td>Adventure|Animation|Children|Comedy|Fantasy</td>\n",
       "    </tr>\n",
       "    <tr>\n",
       "      <th>1</th>\n",
       "      <td>2</td>\n",
       "      <td>Jumanji (1995)</td>\n",
       "      <td>Adventure|Children|Fantasy</td>\n",
       "    </tr>\n",
       "    <tr>\n",
       "      <th>2</th>\n",
       "      <td>3</td>\n",
       "      <td>Grumpier Old Men (1995)</td>\n",
       "      <td>Comedy|Romance</td>\n",
       "    </tr>\n",
       "    <tr>\n",
       "      <th>3</th>\n",
       "      <td>4</td>\n",
       "      <td>Waiting to Exhale (1995)</td>\n",
       "      <td>Comedy|Drama|Romance</td>\n",
       "    </tr>\n",
       "    <tr>\n",
       "      <th>4</th>\n",
       "      <td>5</td>\n",
       "      <td>Father of the Bride Part II (1995)</td>\n",
       "      <td>Comedy</td>\n",
       "    </tr>\n",
       "  </tbody>\n",
       "</table>\n",
       "</div>"
      ],
      "text/plain": [
       "   movieId                               title  \\\n",
       "0        1                    Toy Story (1995)   \n",
       "1        2                      Jumanji (1995)   \n",
       "2        3             Grumpier Old Men (1995)   \n",
       "3        4            Waiting to Exhale (1995)   \n",
       "4        5  Father of the Bride Part II (1995)   \n",
       "\n",
       "                                        genres  \n",
       "0  Adventure|Animation|Children|Comedy|Fantasy  \n",
       "1                   Adventure|Children|Fantasy  \n",
       "2                               Comedy|Romance  \n",
       "3                         Comedy|Drama|Romance  \n",
       "4                                       Comedy  "
      ]
     },
     "execution_count": 2,
     "metadata": {},
     "output_type": "execute_result"
    }
   ],
   "source": [
    "movies = pd.read_csv(\"utility/ml-latest-small/movies.csv\")\n",
    "movies.head()"
   ]
  },
  {
   "cell_type": "code",
   "execution_count": 3,
   "metadata": {
    "scrolled": true
   },
   "outputs": [
    {
     "data": {
      "text/html": [
       "<div>\n",
       "<style scoped>\n",
       "    .dataframe tbody tr th:only-of-type {\n",
       "        vertical-align: middle;\n",
       "    }\n",
       "\n",
       "    .dataframe tbody tr th {\n",
       "        vertical-align: top;\n",
       "    }\n",
       "\n",
       "    .dataframe thead th {\n",
       "        text-align: right;\n",
       "    }\n",
       "</style>\n",
       "<table border=\"1\" class=\"dataframe\">\n",
       "  <thead>\n",
       "    <tr style=\"text-align: right;\">\n",
       "      <th></th>\n",
       "      <th>userId</th>\n",
       "      <th>movieId</th>\n",
       "      <th>rating</th>\n",
       "      <th>timestamp</th>\n",
       "    </tr>\n",
       "  </thead>\n",
       "  <tbody>\n",
       "    <tr>\n",
       "      <th>0</th>\n",
       "      <td>1</td>\n",
       "      <td>31</td>\n",
       "      <td>2.5</td>\n",
       "      <td>1260759144</td>\n",
       "    </tr>\n",
       "    <tr>\n",
       "      <th>1</th>\n",
       "      <td>1</td>\n",
       "      <td>1029</td>\n",
       "      <td>3.0</td>\n",
       "      <td>1260759179</td>\n",
       "    </tr>\n",
       "    <tr>\n",
       "      <th>2</th>\n",
       "      <td>1</td>\n",
       "      <td>1061</td>\n",
       "      <td>3.0</td>\n",
       "      <td>1260759182</td>\n",
       "    </tr>\n",
       "    <tr>\n",
       "      <th>3</th>\n",
       "      <td>1</td>\n",
       "      <td>1129</td>\n",
       "      <td>2.0</td>\n",
       "      <td>1260759185</td>\n",
       "    </tr>\n",
       "    <tr>\n",
       "      <th>4</th>\n",
       "      <td>1</td>\n",
       "      <td>1172</td>\n",
       "      <td>4.0</td>\n",
       "      <td>1260759205</td>\n",
       "    </tr>\n",
       "  </tbody>\n",
       "</table>\n",
       "</div>"
      ],
      "text/plain": [
       "   userId  movieId  rating   timestamp\n",
       "0       1       31     2.5  1260759144\n",
       "1       1     1029     3.0  1260759179\n",
       "2       1     1061     3.0  1260759182\n",
       "3       1     1129     2.0  1260759185\n",
       "4       1     1172     4.0  1260759205"
      ]
     },
     "execution_count": 3,
     "metadata": {},
     "output_type": "execute_result"
    }
   ],
   "source": [
    "ratings = pd.read_csv(\"utility/ml-latest-small/ratings.csv\")\n",
    "ratings.head()"
   ]
  },
  {
   "cell_type": "markdown",
   "metadata": {},
   "source": [
    "## Randomly split data into training and test sets"
   ]
  },
  {
   "cell_type": "code",
   "execution_count": 4,
   "metadata": {},
   "outputs": [],
   "source": [
    "def process(ratings, movies, P):\n",
    "    ''' Given a dataframe of ratings and a random permutation, split the data into a training \n",
    "        and a testing set, in matrix form. \n",
    "        \n",
    "        Args: \n",
    "            ratings (dataframe) : dataframe of MovieLens ratings\n",
    "            movies (dataframe) : dataframe of MovieLens movies\n",
    "            P (numpy 1D array) : random permutation vector\n",
    "            \n",
    "        Returns: \n",
    "            (X_tr, X_te, movie_names)  : training and testing splits of the ratings matrix (both \n",
    "                                         numpy 2D arrays), and a python list of movie names \n",
    "                                         corresponding to the columns of the ratings matrices. \n",
    "    '''\n",
    "    tmp = ratings.merge(movies,on='movieId',how='left')\n",
    "    movie_names = {movies.title[i]: i for i in range(movies.shape[0])}\n",
    "    X_tr = np.zeros([len(tmp.userId.unique()),movies.shape[0]])\n",
    "    X_te = np.zeros([len(tmp.userId.unique()),movies.shape[0]])\n",
    "    \n",
    "    num = int(np.floor(9*len(P)/10))\n",
    "    for i in range(num):\n",
    "        X_tr[tmp.userId[P[i]]-1,movie_names[tmp.title[P[i]]]] = tmp.rating[P[i]]\n",
    "    for i in range(num,len(P)):\n",
    "        X_te[tmp.userId[P[i]]-1,movie_names[tmp.title[P[i]]]] = tmp.rating[P[i]]\n",
    "    \n",
    "    return (X_tr, X_te, movie_names)"
   ]
  },
  {
   "cell_type": "code",
   "execution_count": 5,
   "metadata": {},
   "outputs": [
    {
     "name": "stdout",
     "output_type": "stream",
     "text": [
      "Wall time: 5.93 s\n"
     ]
    }
   ],
   "source": [
    "%time X_tr, X_te, movie_names = process(ratings,movies,np.random.permutation(len(ratings)))"
   ]
  },
  {
   "cell_type": "code",
   "execution_count": 6,
   "metadata": {},
   "outputs": [],
   "source": [
    "def error(X, U, V):\n",
    "    ''' Compute the mean error of the observed ratings in X and their estimated values. \n",
    "        Args: \n",
    "            X (numpy 2D array) : a ratings matrix as specified above\n",
    "            U (numpy 2D array) : a matrix of features for each user\n",
    "            V (numpy 2D array) : a matrix of features for each movie\n",
    "        Returns: \n",
    "            (float) : the mean squared error of the observed ratings with their estimated values\n",
    "    '''\n",
    "    W = X > 0.0\n",
    "    W[W == True] = 1\n",
    "    W[W == False] = 0\n",
    "    W = W.astype(np.float64,copy=False)\n",
    "    return np.sum(W * (U@V.T-X)**2) / np.sum(W)\n",
    "\n",
    "def train(X, X_te, k, U, V, niters=51, lam=10, verbose=False):\n",
    "    ''' Train a collaborative filtering model. \n",
    "        Args:\n",
    "            X_te (numpy 2D array) : the testing ratings matrix as specified above\n",
    "            X (numpy 2D array) : the training ratings matrix as specified above\n",
    "            k (int) : the number of features use in the CF model\n",
    "            U (numpy 2D array) : an initial matrix of features for each user\n",
    "            V (numpy 2D array) : an initial matrix of features for each movie\n",
    "            niters (int) : number of iterations to run\n",
    "            lam (float) : regularization parameter\n",
    "            verbose (boolean) : verbosity flag for printing useful messages            \n",
    "        Returns:\n",
    "            (U,V) : A pair of the resulting learned matrix factorization\n",
    "    '''\n",
    "    tr_log, te_log = [], []\n",
    "    for i in range(niters):\n",
    "        U = np.linalg.solve(V.T@V+lam*np.eye(k),(X@V).T).T\n",
    "        V = np.linalg.solve(U.T@U+lam*np.eye(k),U.T@X).T\n",
    "        tr_err = error(X, U, V)\n",
    "        te_err = error(X_te, U, V)\n",
    "        tr_log.append(tr_err)\n",
    "        te_log.append(te_err)\n",
    "        if verbose and i % 5 == 0:\n",
    "            print('iteration: {0}, training error: {1}, test error: {2}'.format(i,tr_err,te_err))\n",
    "    return (U, V, tr_log, te_log)"
   ]
  },
  {
   "cell_type": "code",
   "execution_count": 7,
   "metadata": {},
   "outputs": [],
   "source": [
    "no_user, no_movies = X_tr.shape"
   ]
  },
  {
   "cell_type": "code",
   "execution_count": 8,
   "metadata": {},
   "outputs": [
    {
     "name": "stdout",
     "output_type": "stream",
     "text": [
      "iteration: 0, training error: 13.61296058775278, test error: 13.556299545845674\n",
      "iteration: 5, training error: 8.238945350904611, test error: 8.835621207994333\n",
      "iteration: 10, training error: 8.202270419888208, test error: 8.817290924053262\n",
      "iteration: 15, training error: 8.204232424254833, test error: 8.827666675660174\n",
      "iteration: 20, training error: 8.206913901232689, test error: 8.833594941972054\n",
      "iteration: 25, training error: 8.208498290387713, test error: 8.836561223272803\n",
      "iteration: 30, training error: 8.209443248616754, test error: 8.838114800944275\n",
      "iteration: 35, training error: 8.210022169513705, test error: 8.838968197885551\n",
      "iteration: 40, training error: 8.210382879942465, test error: 8.83945543865684\n",
      "iteration: 45, training error: 8.210610035476023, test error: 8.839742271343138\n",
      "iteration: 50, training error: 8.210754124020768, test error: 8.839915235529745\n"
     ]
    }
   ],
   "source": [
    "user_features, movie_features, tr_log, te_log = \\\n",
    "train(X_tr, X_te, 5, 5 * np.random.rand(no_user,5), 5 * np.random.rand(no_movies,5),verbose=True)"
   ]
  },
  {
   "cell_type": "code",
   "execution_count": 9,
   "metadata": {
    "scrolled": false
   },
   "outputs": [
    {
     "data": {
      "text/plain": [
       "<matplotlib.legend.Legend at 0x151d700e198>"
      ]
     },
     "execution_count": 9,
     "metadata": {},
     "output_type": "execute_result"
    },
    {
     "data": {
      "image/png": "[encoded data removed]",
      "text/plain": [
       "<Figure size 432x288 with 1 Axes>"
      ]
     },
     "metadata": {},
     "output_type": "display_data"
    }
   ],
   "source": [
    "fig, ax = plt.subplots()\n",
    "ax.plot(range(51),tr_log,label='train')\n",
    "ax.plot(range(51),te_log,label='test')\n",
    "plt.title('Training History')\n",
    "plt.legend()"
   ]
  },
  {
   "cell_type": "markdown",
   "metadata": {},
   "source": [
    "### Recommend each user with movie having the highest rating prediction"
   ]
  },
  {
   "cell_type": "code",
   "execution_count": 10,
   "metadata": {},
   "outputs": [],
   "source": [
    "def recommend(X_tr, user_features, movie_features, movie_names):\n",
    "    rec = []\n",
    "    predict = user_features@movie_features.T\n",
    "    for user_index in range(X_tr.shape[0]):\n",
    "        max_rate = -sys.maxsize\n",
    "        max_index = 0\n",
    "        for rate_index in range(X_tr.shape[1]):\n",
    "            if X_tr[user_index][rate_index] == 0 and predict[user_index][rate_index] > max_rate:\n",
    "                max_rate = predict[user_index][rate_index]\n",
    "                max_index = rate_index\n",
    "        rec.append(movies.title[max_index])\n",
    "    return rec"
   ]
  },
  {
   "cell_type": "code",
   "execution_count": 11,
   "metadata": {},
   "outputs": [],
   "source": [
    "rec = recommend(X_tr,user_features,movie_features,movie_names)"
   ]
  },
  {
   "cell_type": "code",
   "execution_count": 12,
   "metadata": {
    "scrolled": true
   },
   "outputs": [
    {
     "data": {
      "text/plain": [
       "['Who Framed Roger Rabbit? (1988)',\n",
       " 'Shawshank Redemption, The (1994)',\n",
       " 'Forrest Gump (1994)',\n",
       " 'Star Wars: Episode VI - Return of the Jedi (1983)',\n",
       " 'Forrest Gump (1994)',\n",
       " 'Star Wars: Episode IV - A New Hope (1977)',\n",
       " 'Forrest Gump (1994)',\n",
       " 'Matrix, The (1999)',\n",
       " 'Pulp Fiction (1994)',\n",
       " 'Star Wars: Episode IV - A New Hope (1977)']"
      ]
     },
     "execution_count": 12,
     "metadata": {},
     "output_type": "execute_result"
    }
   ],
   "source": [
    "rec[:10]"
   ]
  }
 ],
 "metadata": {
  "kernelspec": {
   "display_name": "Python 3",
   "language": "python",
   "name": "python3"
  },
  "language_info": {
   "codemirror_mode": {
    "name": "ipython",
    "version": 3
   },
   "file_extension": ".py",
   "mimetype": "text/x-python",
   "name": "python",
   "nbconvert_exporter": "python",
   "pygments_lexer": "ipython3",
   "version": "3.6.6"
  }
 },
 "nbformat": 4,
 "nbformat_minor": 2
}
